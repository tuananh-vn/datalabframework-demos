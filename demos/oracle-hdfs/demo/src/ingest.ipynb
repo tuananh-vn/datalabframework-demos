{
 "cells": [
  {
   "cell_type": "code",
   "execution_count": 1,
   "metadata": {},
   "outputs": [],
   "source": [
    "import datalabframework as dlf"
   ]
  },
  {
   "cell_type": "code",
   "execution_count": 2,
   "metadata": {
    "collapsed": false
   },
   "outputs": [
    {
     "name": "stdout",
     "output_type": "stream",
     "text": [
      "engines:\n",
      "  spark:\n",
      "    config:\n",
      "      jars:\n",
      "      - http://www.datanucleus.org/downloads/maven2/oracle/ojdbc6/11.2.0.3/ojdbc6-11.2.0.3.jar\n",
      "      jobname: default\n",
      "      master: spark://spark-master:7077\n",
      "    context: spark\n",
      "loggers:\n",
      "  stream:\n",
      "    enable: true\n",
      "    severity: info\n",
      "profile: default\n",
      "providers:\n",
      "  ingest:\n",
      "    format: parquet\n",
      "    hostname: hdfs-nn\n",
      "    path: /data/ingest\n",
      "    service: hdfs\n",
      "    write:\n",
      "      coalesce: 2\n",
      "      options:\n",
      "        mode: append\n",
      "      repartition: 4\n",
      "  source:\n",
      "    database: MMSOFF\n",
      "    hostname: 172.16.60.18\n",
      "    password: MyPassword\n",
      "    port: 1521\n",
      "    read:\n",
      "      cache: true\n",
      "      repartition: 4\n",
      "    service: oracle\n",
      "    sid: offline\n",
      "    username: books_admin\n",
      "resources:\n",
      "  .resources.QR_Transaction:\n",
      "    ingest:\n",
      "      column: PAY_DATE\n",
      "      policy: date\n",
      "    path: QR_Transaction\n",
      "    provider: source\n",
      "  .resources.QR_Transaction_Detail:\n",
      "    ingest:\n",
      "      column: CREATED_DATE\n",
      "      policy: date\n",
      "    path: QR_Transaction_Detail\n",
      "    provider: source\n",
      "variables:\n",
      "  a: 5\n",
      "  b: hello\n",
      "\n"
     ]
    }
   ],
   "source": [
    "dlf.utils.pretty_print(dlf.params.metadata())"
   ]
  },
  {
   "cell_type": "code",
   "execution_count": 3,
   "metadata": {},
   "outputs": [
    {
     "name": "stdout",
     "output_type": "stream",
     "text": [
      "PYSPARK_SUBMIT_ARGS:  --jars http://www.datanucleus.org/downloads/maven2/oracle/ojdbc6/11.2.0.3/ojdbc6-11.2.0.3.jar pyspark-shell\n"
     ]
    }
   ],
   "source": [
    "engine = dlf.engines.get('spark')\n",
    "spark = engine.context()"
   ]
  },
  {
   "cell_type": "code",
   "execution_count": 4,
   "metadata": {},
   "outputs": [
    {
     "name": "stdout",
     "output_type": "stream",
     "text": [
      "provider:\n",
      "  database: MMSOFF\n",
      "  hostname: 172.16.60.18\n",
      "  password: MyPassword\n",
      "  path: ''\n",
      "  port: 1521\n",
      "  read:\n",
      "    cache: true\n",
      "    repartition: 4\n",
      "  service: oracle\n",
      "  sid: offline\n",
      "  username: books_admin\n",
      "resource:\n",
      "  ingest:\n",
      "    column: PAY_DATE\n",
      "    policy: date\n",
      "  path: QR_Transaction\n",
      "  provider: source\n",
      "url: null\n",
      "\n",
      "jdbc:oracle:thin:books_admin/MyPassword@//172.16.60.18:1521/offline\n",
      "+-----------------+--------------------+-------------+-------------+--------+------------+----------+-----------+---------+----------+-----------------+------------+-------------+------------+-------+-----------+-------+--------------------+------------+-----------+--------------------+------------+-----------+--------------------+------------+-----------+--------------------+------------+-----------+-----------+------+-------------------+--------------------+------------+-----------+-------------+---------------+--------------+--------+---------+-------------------+--------------+---------------+------------+---------+---------+---------------+------------+------------+------------------+----------+-------------+------------+----------------+--------------+-----------+----+------------+----------+------------+------------+---------------+----------+----------+-----------+-----------+\n",
      "|               ID|MASTER_MERCHANT_CODE|MERCHANT_CODE|MERCHANT_CITY|PIN_CODE|PF_INDICATOR|POI_METHOD|     MOBILE|BANK_CODE|ACCOUNT_NO|     DEBIT_AMOUNT|TRAN_QR_CODE|TRAN_VNP_CODE|MESSAGE_TYPE|WEBSITE|PAY_CHANNEL|TIP_FEE|     ADDITIONAL_DATA|PHASE1_TRACE|PHASE1_CODE|         PHASE1_DESC|PHASE2_TRACE|PHASE2_CODE|         PHASE2_DESC|PHASE3_TRACE|PHASE3_CODE|         PHASE3_DESC|PHASE4_TRACE|PHASE4_CODE|PHASE4_DESC|STATUS|         LOCAL_DATE|            PAY_DATE|  ORDER_CODE|LOCKED_USER|MERCHANT_TYPE|TRANSITION_DATA|ACCOUNT_VNMART|PAY_CODE| QR_TRACE|    PHASE3_PAY_DATE|PAYLOAD_FORMAT|PHASE4_PAY_DATE|        FLAG|SERVER_ID|DATA_TYPE|  CUSTOMER_NAME|CODE_TO_BANK|DESC_TO_BANK|NOTE_CHANGE_STATUS|VERSION_QR|MERCHANT_NAME|SERVICE_CODE|USER_READED_TRAN|PROMOTION_CODE|REAL_AMOUNT|RATE|ORDER_STATUS|PRIZE_CODE|PROMOTION_ID|BILLING_LIST|CONTRACT_NUMBER|CONTRACTOR|OLD_STATUS|UPDATE_USER|UPDATE_DATE|\n",
      "+-----------------+--------------------+-------------+-------------+--------+------------+----------+-----------+---------+----------+-----------------+------------+-------------+------------+-------+-----------+-------+--------------------+------------+-----------+--------------------+------------+-----------+--------------------+------------+-----------+--------------------+------------+-----------+-----------+------+-------------------+--------------------+------------+-----------+-------------+---------------+--------------+--------+---------+-------------------+--------------+---------------+------------+---------+---------+---------------+------------+------------+------------------+----------+-------------+------------+----------------+--------------+-----------+----+------------+----------+------------+------------+---------------+----------+----------+-----------+-----------+\n",
      "|802256.0000000000|              908405|   2500258674|        HANOI|    null|          01|        11| 0966670994|   970489|      null|130000.0000000000|        null|         null|           1|   null|     Qrcode|   null|                null|           0|         00|Khoi tao giao dic...|      109207|      00   |Tru tien thanh co...|      802256|         00|Thanh toan thanh ...|        null|       null|       null| 0E-10|2018-08-20 10:42:07| 2018-08-20 10:42:07|      109207|       null|         5812|           null|          null|    null|000802256|2018-08-20 10:42:07|          null|           null|1.0000000000|        1|       -1|NGUYEN HAI LINH|          00|     Success|              null|         2|      HONGLAM|          06|            null|          Qr30|     100000|null|        null|       YES|        null|        null|           null|      null|      null|       null|       null|\n",
      "|802257.0000000000|              908405|   0801206940|     HAIDUONG|    null|          01|        11|01239019399|   970419|      null|100000.0000000000|        null|         null|           1|   null|     Qrcode|   null|       YODYFASHION42|           0|         00|Khoi tao giao dic...|      057248|      00   | tru tien thanh cong|      802257|         00|Thanh toan thanh ...|        null|       null|       null| 0E-10|2018-08-20 10:42:18| 2018-08-20 10:42:17|      057248|       null|         5691|           null|          null|    null|000802257|2018-08-20 10:42:18|          null|           null|1.0000000000|        1|       -1|   HA THI QUYNH|          00|     Success|              null|         2|  YODYFASHION|          06|            null|          QR30|      70000|null|        null|       YES|        null|        null|           null|      null|      null|       null|       null|\n",
      "|801605.0000000000|              908405|   0106557746|        HANOI|    null|          01|        12| 0985592809|   970426|      null|300000.0000000000|        null|         null|           1|   null|     Qrcode|   null|                null|           0|         00|Khoi tao giao dic...|      975782|      00   |           System Ok|      801605|         00|Thanh toan thanh ...|        null|       null|       null| 0E-10|2018-08-20 08:37:23| 2018-08-20 08:37:23| 18232103079|       null|         8299|           null|          null|    null|000801605|2018-08-20 08:37:23|          null|           null|1.0000000000|        1|       -1|           null|          00|     Success|              null|         2|     SMARTBEE|          02|            null|          null|     300000|null|        null|      null|        null|        null|           null|      null|      null|       null|       null|\n",
      "|801607.0000000000|                null|   0106873188|         null|    null|        null|      null|       null|   970419|      null| 74999.0000000000|        null|         null|        null|   null|     Qrcode|   null|Thanh toan hoa do...|           0|         00|Khoi tao giao dic...|     8046366|       null|                null|      801607|       null|                null|        null|       null|       null| 0E-10|2018-08-20 08:37:42|2018-08-20 08:37:...|180820394131|       null|         null|           null|          null|    null|000801607|2018-08-20 08:37:42|          null|           null|1.0000000000|        1|       -1|          VNPAY|        null|        null|              null|         2|         null|          07|            null|          null|       null|null|        null|      null|        null|        null|           null|      null|      null|       null|       null|\n",
      "|801608.0000000000|              908405|   0314105123|        HANOI|    null|          01|        12| 0974616272|   970419|      null| 11760.0000000000|        null|         null|           1|   null|     Qrcode|   null|   Thanh toan QRCode|           0|         00|Khoi tao giao dic...|      055351|      00   | tru tien thanh cong|      801608|         00|Thanh toan thanh ...|        null|       null|       null| 0E-10|2018-08-20 08:38:13| 2018-08-20 08:38:13|      055351|       null|         7922|           null|          null|    null|000801608|2018-08-20 08:38:13|          null|           null|1.0000000000|        1|       -1|   VU VAN KHIEM|          00|     Success|              null|         2|     LOTTOMAX|          02|            null|          null|      11760|null|        null|      null|        null|        null|           null|      null|      null|       null|       null|\n",
      "+-----------------+--------------------+-------------+-------------+--------+------------+----------+-----------+---------+----------+-----------------+------------+-------------+------------+-------+-----------+-------+--------------------+------------+-----------+--------------------+------------+-----------+--------------------+------------+-----------+--------------------+------------+-----------+-----------+------+-------------------+--------------------+------------+-----------+-------------+---------------+--------------+--------+---------+-------------------+--------------+---------------+------------+---------+---------+---------------+------------+------------+------------------+----------+-------------+------------+----------------+--------------+-----------+----+------------+----------+------------+------------+---------------+----------+----------+-----------+-----------+\n",
      "only showing top 5 rows\n",
      "\n",
      "provider:\n",
      "  database: MMSOFF\n",
      "  hostname: 172.16.60.18\n",
      "  password: MyPassword\n",
      "  path: ''\n",
      "  port: 1521\n",
      "  read:\n",
      "    cache: true\n",
      "    repartition: 4\n",
      "  service: oracle\n",
      "  sid: offline\n",
      "  username: books_admin\n",
      "resource:\n",
      "  filter:\n",
      "    column: CREATED_DATE\n",
      "    policy: date\n",
      "  path: QR_Transaction_Detail\n",
      "  provider: source\n",
      "url: null\n",
      "\n",
      "jdbc:oracle:thin:books_admin/MyPassword@//172.16.60.18:1521/offline\n",
      "+---+--------------+------------+-------------+-----------+----------+------+--------+--------+-------+---------+-----------+------+-----------+------+--------+--------------+-----------+----+-------------+-----------+------------+---------+---------+-------+------------+\n",
      "| ID|TRANSACTION_ID|SERVICE_CODE|MERCHANT_CODE|TERMINAL_ID|PRODUCT_ID|AMOUNT|QUANTITY|PAY_TYPE|TIP_FEE|FEE_FIXED|PERCENT_FEE|TXN_ID|BILL_NUMBER|MOBILE|STORE_ID|LOYALTY_NUMBER|CUSTOMER_ID|NOTE|CURRENCY_CODE|EXPIRE_DATE|CREATED_DATE|SERVER_ID|DATA_TYPE|PERPOSE|TERM_BILLING|\n",
      "+---+--------------+------------+-------------+-----------+----------+------+--------+--------+-------+---------+-----------+------+-----------+------+--------+--------------+-----------+----+-------------+-----------+------------+---------+---------+-------+------------+\n",
      "+---+--------------+------------+-------------+-----------+----------+------+--------+--------+-------+---------+-----------+------+-----------+------+--------+--------------+-----------+----+-------------+-----------+------------+---------+---------+-------+------------+\n",
      "\n"
     ]
    }
   ],
   "source": [
    "day = md = dlf.params.metadata()\n",
    "for resource in md['resources'].keys():\n",
    "    df_src = engine.read(resource)\n",
    "    df_src.show(5)"
   ]
  },
  {
   "cell_type": "markdown",
   "metadata": {},
   "source": [
    "## pre checks\n",
    "\n",
    "schema checks:\n",
    "\n",
    " - get table schema from source\n",
    " - compare with reference schema\n",
    " \n",
    "value checks:\n",
    " - null\n",
    " - invalid "
   ]
  },
  {
   "cell_type": "code",
   "execution_count": null,
   "metadata": {},
   "outputs": [
    {
     "name": "stdout",
     "output_type": "stream",
     "text": [
      "database: MMSOFF\n",
      "hostname: 172.16.60.18\n",
      "password: MyPassword\n",
      "path: ''\n",
      "port: 1521\n",
      "read:\n",
      "  cache: true\n",
      "  repartition: 4\n",
      "service: oracle\n",
      "sid: offline\n",
      "username: books_admin\n",
      "\n",
      "filter:\n",
      "  column: PAY_DATE\n",
      "  policy: date\n",
      "path: QR_Transaction\n",
      "provider: source\n",
      "\n",
      "condition: PAY_DATE < \"2018-10-18T00:00:00\" \n",
      "QR_Transaction/schema ingest\n",
      "provider:\n",
      "  format: parquet\n",
      "  hostname: hdfs-nn\n",
      "  path: data/ingest\n",
      "  service: hdfs\n",
      "  write:\n",
      "    coalesce: 2\n",
      "    options:\n",
      "      mode: append\n",
      "    repartition: 4\n",
      "resource:\n",
      "  path: QR_Transaction/schema\n",
      "  provider: ingest\n",
      "url: hdfs://hdfs-nn:8020/data/ingest/QR_Transaction/schema\n",
      "\n",
      "2018-10-18 10:31:36,915 - WARNING - bc7425b - datalabframework-demos.git - jovyan - ingest.ipynb - message - No schema file for QR_Transaction, ingest\n",
      "schema date 2018-10-18 00:00:00\n",
      "provider:\n",
      "  database: MMSOFF\n",
      "  hostname: 172.16.60.18\n",
      "  password: MyPassword\n",
      "  path: ''\n",
      "  port: 1521\n",
      "  read:\n",
      "    cache: true\n",
      "    repartition: 4\n",
      "  service: oracle\n",
      "  sid: offline\n",
      "  username: books_admin\n",
      "resource:\n",
      "  path: QR_Transaction\n",
      "  provider: source\n",
      "url: null\n",
      "\n",
      "jdbc:oracle:thin:books_admin/MyPassword@//172.16.60.18:1521/offline\n",
      "{'provider': {'format': 'parquet', 'hostname': 'hdfs-nn', 'path': 'data/ingest', 'service': 'hdfs', 'write': {'coalesce': 2, 'options': {'mode': 'append'}, 'repartition': 4}}, 'resource': {'path': 'QR_Transaction', 'provider': 'ingest'}, 'url': 'hdfs://hdfs-nn:8020/data/ingest/QR_Transaction'}\n",
      "QR_Transaction/2018-10-18\n",
      "provider:\n",
      "  format: parquet\n",
      "  hostname: hdfs-nn\n",
      "  path: data/ingest\n",
      "  service: hdfs\n",
      "  write:\n",
      "    coalesce: 2\n",
      "    options:\n",
      "      mode: append\n",
      "    repartition: 4\n",
      "resource:\n",
      "  path: QR_Transaction/2018-10-18\n",
      "  provider: ingest\n",
      "url: hdfs://hdfs-nn:8020/data/ingest/QR_Transaction/2018-10-18\n",
      "\n",
      "2018-10-18 10:31:37,570 - WARNING - bc7425b - datalabframework-demos.git - jovyan - ingest.ipynb - message - Nothing to read from destination: QR_Transaction/2018-10-18, ingest\n"
     ]
    }
   ],
   "source": [
    "md = dlf.params.metadata()\n",
    "for resource in md['resources'].keys():\n",
    "    engine.ingest(src_resource = resource,dest_provider = 'ingest')"
   ]
  },
  {
   "cell_type": "markdown",
   "metadata": {},
   "source": [
    "## Ingest strategy\n",
    "\n",
    "#### **what to read?**\n",
    " \n",
    "FULL scan:  \n",
    "tables are lost or never ingested before\n",
    " \n",
    "  - cold start\n",
    "  - disaster recovery from source\n",
    "     \n",
    "INCREMENTAL scan:  \n",
    "We need a way to select/filter new data\n",
    "\n",
    "  - time based (default, i.e. last_update column)\n",
    "  - index based (if index is auto incrementing)\n",
    "  - hash compare indexes (expensive)\n",
    "  - full rescan and tag with ingest date\n",
    " \n",
    "#### **where to write?**\n",
    "\n",
    "  - define a naming convention for the target tables (default schema version: `latest`)  \n",
    "    `<source>/<db-name>/<table-name>/<schema-version-date>`\n",
    "    \n",
    "#### **exceptions**\n",
    ": what to do? (show error)"
   ]
  },
  {
   "cell_type": "markdown",
   "metadata": {},
   "source": [
    "### HDFS"
   ]
  },
  {
   "cell_type": "code",
   "execution_count": 5,
   "metadata": {},
   "outputs": [
    {
     "name": "stdout",
     "output_type": "stream",
     "text": [
      "hdfs://hdfs-nn:8020//data/ingest/extract/sakila.actor\n",
      "+--------+----------+------------+-------------------+\n",
      "|actor_id|first_name|   last_name|        last_update|\n",
      "+--------+----------+------------+-------------------+\n",
      "|       1|  PENELOPE|     GUINESS|2006-02-15 04:34:33|\n",
      "|       2|      NICK|    WAHLBERG|2006-02-15 04:34:33|\n",
      "|       3|        ED|       CHASE|2006-02-15 04:34:33|\n",
      "|       4|  JENNIFER|       DAVIS|2006-02-15 04:34:33|\n",
      "|       5|    JOHNNY|LOLLOBRIGIDA|2006-02-15 04:34:33|\n",
      "|       6|     BETTE|   NICHOLSON|2006-02-15 04:34:33|\n",
      "|       7|     GRACE|      MOSTEL|2006-02-15 04:34:33|\n",
      "|       8|   MATTHEW|   JOHANSSON|2006-02-15 04:34:33|\n",
      "|       9|       JOE|       SWANK|2006-02-15 04:34:33|\n",
      "|      10| CHRISTIAN|       GABLE|2006-02-15 04:34:33|\n",
      "|      11|      ZERO|        CAGE|2006-02-15 04:34:33|\n",
      "|      12|      KARL|       BERRY|2006-02-15 04:34:33|\n",
      "|      13|       UMA|        WOOD|2006-02-15 04:34:33|\n",
      "|      14|    VIVIEN|      BERGEN|2006-02-15 04:34:33|\n",
      "|      15|      CUBA|     OLIVIER|2006-02-15 04:34:33|\n",
      "|      16|      FRED|     COSTNER|2006-02-15 04:34:33|\n",
      "|      17|     HELEN|      VOIGHT|2006-02-15 04:34:33|\n",
      "|      18|       DAN|        TORN|2006-02-15 04:34:33|\n",
      "|      19|       BOB|     FAWCETT|2006-02-15 04:34:33|\n",
      "|      20|   LUCILLE|       TRACY|2006-02-15 04:34:33|\n",
      "+--------+----------+------------+-------------------+\n",
      "only showing top 20 rows\n",
      "\n"
     ]
    }
   ],
   "source": [
    "# read back from hdfs in parquet format\n",
    "df_trg = engine.read('target', 'ingest')\n",
    "df_trg.where(col(colname) => 'datetime')\n",
    "df_trg.show()"
   ]
  },
  {
   "cell_type": "markdown",
   "metadata": {},
   "source": [
    "## post checks"
   ]
  },
  {
   "cell_type": "code",
   "execution_count": 6,
   "metadata": {},
   "outputs": [],
   "source": [
    "assert(df_src.subtract(df_trg).count()==0)"
   ]
  },
  {
   "cell_type": "code",
   "execution_count": null,
   "metadata": {},
   "outputs": [],
   "source": [
    "engine.read(path='abcd', provider='dsds')\n",
    "write(df, path='abcd', provider='ingest')\n",
    "\n",
    "engine.read('resource_alias')\n",
    "engine.write(df, 'resource_alias')"
   ]
  }
 ],
 "metadata": {
  "kernelspec": {
   "display_name": "Python 3",
   "language": "python",
   "name": "python3"
  },
  "language_info": {
   "codemirror_mode": {
    "name": "ipython",
    "version": 3
   },
   "file_extension": ".py",
   "mimetype": "text/x-python",
   "name": "python",
   "nbconvert_exporter": "python",
   "pygments_lexer": "ipython3",
   "version": "3.6.3"
  }
 },
 "nbformat": 4,
 "nbformat_minor": 2
}
